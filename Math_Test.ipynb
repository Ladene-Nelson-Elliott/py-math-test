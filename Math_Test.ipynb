{
 "cells": [
  {
   "cell_type": "code",
   "execution_count": 1,
   "id": "df2ed929",
   "metadata": {},
   "outputs": [],
   "source": [
    "import random"
   ]
  },
  {
   "cell_type": "code",
   "execution_count": 2,
   "id": "76face6a",
   "metadata": {},
   "outputs": [],
   "source": [
    "#For 3:\n",
    "#Find out what type of test generate nums\n",
    "#Ask user question, check your answer,give user score\n",
    "\n",
    "#get random numbers\n",
    "def get_random_nums():\n",
    "    a=random.randint(1,10)\n",
    "    b=random.randint(1,10)\n",
    "    return(a,b)"
   ]
  },
  {
   "cell_type": "code",
   "execution_count": 3,
   "id": "e3ce0f93",
   "metadata": {},
   "outputs": [],
   "source": [
    "#give a test question(modulo)\n",
    "\n",
    "def modulo_test_question(a,b):\n",
    "    answer=a%b\n",
    "    question=f\"{a}%{b}= \"\n",
    "    return(question,answer)\n",
    "#define a floor division test question(floor devision always returns integer, regular division returns a float)\n",
    "#rewrite code for floor division problem\n",
    "def floor_division_test_question(a,b):\n",
    "    answer=a//b\n",
    "    question=f\"{a}//{b}= \"\n",
    "    return(question,answer)"
   ]
  },
  {
   "cell_type": "code",
   "execution_count": 4,
   "id": "cf49d6aa",
   "metadata": {},
   "outputs": [],
   "source": [
    "#ask the modulo test question\n",
    "\n",
    "def ask_question (question,answer):\n",
    "    user_answer=input(question)\n",
    "    right_or_wrong=str(answer)==user_answer\n",
    "    return right_or_wrong"
   ]
  },
  {
   "cell_type": "code",
   "execution_count": 5,
   "id": "b155f96f",
   "metadata": {},
   "outputs": [],
   "source": [
    "#check to make sure its working\n",
    "\n",
    "#a,b=get_random_nums()\n",
    "#question,answer=modulo_test_question(a,b)\n",
    "#right_or_wrong=ask_question(question,answer)"
   ]
  },
  {
   "cell_type": "code",
   "execution_count": 6,
   "id": "07c21e68",
   "metadata": {},
   "outputs": [],
   "source": [
    "#functionalize ask user question\n",
    "def proctor_question(question_function):\n",
    "    a,b=get_random_nums()\n",
    "    question,answer=question_function(a,b)\n",
    "    right_or_wrong=ask_question(question,answer)\n",
    "    return right_or_wrong"
   ]
  },
  {
   "cell_type": "code",
   "execution_count": 7,
   "id": "ccbb9131",
   "metadata": {},
   "outputs": [],
   "source": [
    "#this is where we will ask the question\n",
    "#proctor_question(modulo_test_question)"
   ]
  },
  {
   "cell_type": "code",
   "execution_count": 9,
   "id": "97522eae",
   "metadata": {},
   "outputs": [
    {
     "name": "stdout",
     "output_type": "stream",
     "text": [
      "Test Type(%,//)//\n",
      "5//6= 5\n",
      "10//9= 5\n",
      "2//3= 5\n",
      "8//1= 5\n",
      "5//1= 5\n",
      "Go Again(y,n)?y\n",
      "10//1= 3\n",
      "6//3= 3\n",
      "5//4= 3\n",
      "1//3= 33\n",
      "1//2= 3\n",
      "Go Again(y,n)?n\n",
      "10.0\n"
     ]
    }
   ],
   "source": [
    "#user can take any test they want\n",
    "user_playing=True\n",
    "#to do :functionalize this\n",
    "test_type=input(\"Test Type(%,//)\")\n",
    "question_counter=0\n",
    "correct_counter=0\n",
    "#while loops is until some condition is met, on a boolean; for loop over a finitite list of objects\n",
    "while user_playing:\n",
    "    for i in range(5):\n",
    "        question_counter+=1\n",
    "        if test_type==\"%\":\n",
    "            question_function=modulo_test_question\n",
    "        elif test_type==\"//\":\n",
    "            question_function=floor_division_test_question\n",
    "        right_or_wrong=proctor_question(question_function)\n",
    "        if right_or_wrong:\n",
    "            correct_counter+=1\n",
    "    go_again=input(\"Go Again(y,n)?\")\n",
    "    if go_again==\"n\":\n",
    "        user_playing=False\n",
    "else:\n",
    "    print(correct_counter/question_counter*100)"
   ]
  },
  {
   "cell_type": "markdown",
   "id": "5fa8b8e2",
   "metadata": {},
   "source": [
    "#### "
   ]
  }
 ],
 "metadata": {
  "kernelspec": {
   "display_name": "Python 3 (ipykernel)",
   "language": "python",
   "name": "python3"
  },
  "language_info": {
   "codemirror_mode": {
    "name": "ipython",
    "version": 3
   },
   "file_extension": ".py",
   "mimetype": "text/x-python",
   "name": "python",
   "nbconvert_exporter": "python",
   "pygments_lexer": "ipython3",
   "version": "3.9.7"
  }
 },
 "nbformat": 4,
 "nbformat_minor": 5
}
